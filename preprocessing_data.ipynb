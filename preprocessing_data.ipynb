{
 "cells": [
  {
   "cell_type": "markdown",
   "metadata": {},
   "source": [
    "#### Load Data"
   ]
  },
  {
   "cell_type": "code",
   "execution_count": 1,
   "metadata": {},
   "outputs": [],
   "source": [
    "import pandas as pd\n",
    "import numpy as np\n",
    "import seaborn as sns\n",
    "\n",
    "dpt_1_2_pv = pd.read_csv(\"TwInSolar_consolidated_data-main/Dpt_1_2_PV.txt\", delimiter=\",\")\n",
    "enerpos_pv = pd.read_csv(\"TwInSolar_consolidated_data-main/ENERPOS_PV.txt\", delimiter=\",\")\n",
    "esiroi_pv = pd.read_csv(\"TwInSolar_consolidated_data-main/ESIROI_PV.txt\", delimiter=\",\")\n",
    "meteo = pd.read_csv(\"TwInSolar_consolidated_data-main/Meteo_Terre_Sainte.txt\", delimiter=\",\")\n"
   ]
  },
  {
   "cell_type": "markdown",
   "metadata": {},
   "source": [
    "#### Convert Timestamp"
   ]
  },
  {
   "cell_type": "code",
   "execution_count": 17,
   "metadata": {},
   "outputs": [],
   "source": [
    "dpt_1_2_pv['datetime'] = pd.to_datetime(dpt_1_2_pv['datetime'])\n",
    "enerpos_pv['datetime'] = pd.to_datetime(enerpos_pv['datetime'])\n",
    "esiroi_pv['datetime'] = pd.to_datetime(esiroi_pv['datetime'])\n",
    "meteo['datetime'] = pd.to_datetime(meteo['datetime'])\n"
   ]
  },
  {
   "cell_type": "markdown",
   "metadata": {},
   "source": [
    "#### Handle Missing Values"
   ]
  },
  {
   "cell_type": "code",
   "execution_count": 18,
   "metadata": {},
   "outputs": [],
   "source": [
    "# inear interpolation\n",
    "dpt_1_2_pv = dpt_1_2_pv.interpolate(method='linear')\n"
   ]
  },
  {
   "cell_type": "markdown",
   "metadata": {},
   "source": [
    "#### Remove or Correct Outliers"
   ]
  },
  {
   "cell_type": "code",
   "execution_count": 19,
   "metadata": {},
   "outputs": [],
   "source": [
    "# Removing outliers beyond 3 standard deviations for PV data\n",
    "dpt_1_2_pv = dpt_1_2_pv[(np.abs(dpt_1_2_pv['Prod_kW'] - dpt_1_2_pv['Prod_kW'].mean()) <= (3*dpt_1_2_pv['Prod_kW'].std()))]\n"
   ]
  },
  {
   "cell_type": "markdown",
   "metadata": {},
   "source": [
    "#### Normalize Data"
   ]
  },
  {
   "cell_type": "code",
   "execution_count": 20,
   "metadata": {},
   "outputs": [],
   "source": [
    "from sklearn.preprocessing import MinMaxScaler\n",
    "\n",
    "scaler = MinMaxScaler()\n",
    "dpt_1_2_pv[['Prod_kW']] = scaler.fit_transform(dpt_1_2_pv[['Prod_kW']])\n"
   ]
  },
  {
   "cell_type": "markdown",
   "metadata": {},
   "source": [
    "#### Align Temporal Data and Merge"
   ]
  },
  {
   "cell_type": "code",
   "execution_count": 21,
   "metadata": {},
   "outputs": [],
   "source": [
    "merged_dpt_1_2 = pd.merge(dpt_1_2_pv, meteo, on='datetime')\n",
    "merged_enerpos = pd.merge(enerpos_pv, meteo, on='datetime')\n",
    "merged_esiroi = pd.merge(esiroi_pv, meteo, on='datetime')\n"
   ]
  },
  {
   "cell_type": "markdown",
   "metadata": {},
   "source": [
    "## Data Validation\n",
    "\n",
    "##### Check for Missing Values Post-Cleaning\n",
    "\n"
   ]
  },
  {
   "cell_type": "code",
   "execution_count": 22,
   "metadata": {},
   "outputs": [
    {
     "name": "stdout",
     "output_type": "stream",
     "text": [
      "datetime    0\n",
      "Prod_kW     0\n",
      "GHI         0\n",
      "BNI         0\n",
      "DHI         0\n",
      "DBT         0\n",
      "RH          0\n",
      "Ws10        0\n",
      "Wd10        0\n",
      "Patmo       0\n",
      "Rainfall    0\n",
      "dtype: int64\n",
      "datetime    0\n",
      "Prod_kW     0\n",
      "GHI         0\n",
      "BNI         0\n",
      "DHI         0\n",
      "DBT         0\n",
      "RH          0\n",
      "Ws10        0\n",
      "Wd10        0\n",
      "Patmo       0\n",
      "Rainfall    0\n",
      "dtype: int64\n",
      "datetime    0\n",
      "Prod_kW     0\n",
      "GHI         0\n",
      "BNI         0\n",
      "DHI         0\n",
      "DBT         0\n",
      "RH          0\n",
      "Ws10        0\n",
      "Wd10        0\n",
      "Patmo       0\n",
      "Rainfall    0\n",
      "dtype: int64\n"
     ]
    }
   ],
   "source": [
    "print(merged_dpt_1_2.isnull().sum())\n",
    "print(merged_enerpos.isnull().sum())\n",
    "print(merged_esiroi.isnull().sum())\n"
   ]
  },
  {
   "cell_type": "markdown",
   "metadata": {},
   "source": [
    "#### Visualize Data to Identify Anomalies"
   ]
  },
  {
   "cell_type": "code",
   "execution_count": 2,
   "metadata": {},
   "outputs": [
    {
     "ename": "NameError",
     "evalue": "name 'merged_dpt_1_2' is not defined",
     "output_type": "error",
     "traceback": [
      "\u001b[0;31m---------------------------------------------------------------------------\u001b[0m",
      "\u001b[0;31mNameError\u001b[0m                                 Traceback (most recent call last)",
      "Cell \u001b[0;32mIn[2], line 3\u001b[0m\n\u001b[1;32m      1\u001b[0m \u001b[38;5;28;01mimport\u001b[39;00m \u001b[38;5;21;01mmatplotlib\u001b[39;00m\u001b[38;5;21;01m.\u001b[39;00m\u001b[38;5;21;01mpyplot\u001b[39;00m \u001b[38;5;28;01mas\u001b[39;00m \u001b[38;5;21;01mplt\u001b[39;00m\n\u001b[0;32m----> 3\u001b[0m plt\u001b[38;5;241m.\u001b[39mplot(\u001b[43mmerged_dpt_1_2\u001b[49m[\u001b[38;5;124m'\u001b[39m\u001b[38;5;124mdatetime\u001b[39m\u001b[38;5;124m'\u001b[39m], merged_dpt_1_2[\u001b[38;5;124m'\u001b[39m\u001b[38;5;124mProd_kW\u001b[39m\u001b[38;5;124m'\u001b[39m])\n\u001b[1;32m      4\u001b[0m plt\u001b[38;5;241m.\u001b[39mtitle(\u001b[38;5;124m'\u001b[39m\u001b[38;5;124mDpt 1_2 PV Production Over Time\u001b[39m\u001b[38;5;124m'\u001b[39m)\n\u001b[1;32m      5\u001b[0m plt\u001b[38;5;241m.\u001b[39mxlabel(\u001b[38;5;124m'\u001b[39m\u001b[38;5;124mDatetime\u001b[39m\u001b[38;5;124m'\u001b[39m)\n",
      "\u001b[0;31mNameError\u001b[0m: name 'merged_dpt_1_2' is not defined"
     ]
    }
   ],
   "source": [
    "import matplotlib.pyplot as plt\n",
    "\n",
    "plt.plot(merged_dpt_1_2['datetime'], merged_dpt_1_2['Prod_kW'])\n",
    "plt.title('Dpt 1_2 PV Production Over Time')\n",
    "plt.xlabel('Datetime')\n",
    "plt.ylabel('PV Production (kW)')\n",
    "plt.show()\n",
    "\n",
    "\n",
    "sns.boxplot(data=dpt_1_2_pv[['Prod_kW']])\n",
    "plt.title('Boxplot for Dpt_1_2 PV Production')\n",
    "plt.show()\n",
    "\n",
    "sns.boxplot(data=enerpos_pv[['Prod_kW']])\n",
    "plt.title('Boxplot for Enerpos PV Production')\n",
    "plt.show()\n",
    "\n",
    "sns.boxplot(data=esiroi_pv[['Prod_kW']])\n",
    "plt.title('Boxplot for ESIROI PV Production')\n",
    "plt.show()\n",
    "\n",
    "\n",
    "\n"
   ]
  },
  {
   "cell_type": "markdown",
   "metadata": {},
   "source": [
    "#### Statistical Summary"
   ]
  },
  {
   "cell_type": "code",
   "execution_count": 24,
   "metadata": {},
   "outputs": [
    {
     "name": "stdout",
     "output_type": "stream",
     "text": [
      "             Prod_kW            GHI            BNI            DHI  \\\n",
      "count  105120.000000  105120.000000  105120.000000  105120.000000   \n",
      "mean        0.204017     236.880172     223.856274      81.696537   \n",
      "std         0.282640     328.751888     328.659286     122.230949   \n",
      "min         0.000000       0.000000       0.000000       0.000000   \n",
      "25%         0.000300       0.000000       0.000000       0.000000   \n",
      "50%         0.000300       3.899850       0.168500       3.557952   \n",
      "75%         0.403529     451.667500     518.752500     124.222500   \n",
      "max         1.000000    1305.900000    1200.894352    1046.900000   \n",
      "\n",
      "                 DBT             RH           Ws10           Wd10  \\\n",
      "count  105120.000000  105120.000000  105120.000000  105120.000000   \n",
      "mean       23.778520      74.261499       2.311256     122.588027   \n",
      "std         3.585584      10.171373       1.937093      58.672895   \n",
      "min        14.297000       0.084948       0.000000       0.082400   \n",
      "25%        20.954000      67.075000       0.697200      90.220000   \n",
      "50%        23.918000      74.500500       1.897500     113.360000   \n",
      "75%        26.341000      81.580000       3.461325     135.521750   \n",
      "max        33.992000     100.000000      13.207000     356.480000   \n",
      "\n",
      "               Patmo       Rainfall  \n",
      "count  105120.000000  105120.000000  \n",
      "mean     1017.330530       0.001471  \n",
      "std         4.639135       0.016350  \n",
      "min       995.400000       0.000000  \n",
      "25%      1014.000000       0.000000  \n",
      "50%      1017.400000       0.000000  \n",
      "75%      1021.000000       0.000000  \n",
      "max      1028.000000       1.320000  \n",
      "             Prod_kW            GHI            BNI            DHI  \\\n",
      "count  105120.000000  105120.000000  105120.000000  105120.000000   \n",
      "mean        8.328260     236.880172     223.856274      81.696537   \n",
      "std        11.586614     328.751888     328.659286     122.230949   \n",
      "min        -0.021915       0.000000       0.000000       0.000000   \n",
      "25%        -0.000000       0.000000       0.000000       0.000000   \n",
      "50%        -0.000000       3.899850       0.168500       3.557952   \n",
      "75%        16.320237     451.667500     518.752500     124.222500   \n",
      "max        44.851950    1305.900000    1200.894352    1046.900000   \n",
      "\n",
      "                 DBT             RH           Ws10           Wd10  \\\n",
      "count  105120.000000  105120.000000  105120.000000  105120.000000   \n",
      "mean       23.778520      74.261499       2.311256     122.588027   \n",
      "std         3.585584      10.171373       1.937093      58.672895   \n",
      "min        14.297000       0.084948       0.000000       0.082400   \n",
      "25%        20.954000      67.075000       0.697200      90.220000   \n",
      "50%        23.918000      74.500500       1.897500     113.360000   \n",
      "75%        26.341000      81.580000       3.461325     135.521750   \n",
      "max        33.992000     100.000000      13.207000     356.480000   \n",
      "\n",
      "               Patmo       Rainfall  \n",
      "count  105120.000000  105120.000000  \n",
      "mean     1017.330530       0.001471  \n",
      "std         4.639135       0.016350  \n",
      "min       995.400000       0.000000  \n",
      "25%      1014.000000       0.000000  \n",
      "50%      1017.400000       0.000000  \n",
      "75%      1021.000000       0.000000  \n",
      "max      1028.000000       1.320000  \n",
      "             Prod_kW            GHI            BNI            DHI  \\\n",
      "count  105120.000000  105120.000000  105120.000000  105120.000000   \n",
      "mean       20.531238     236.880172     223.856274      81.696537   \n",
      "std        28.489922     328.751888     328.659286     122.230949   \n",
      "min        -0.022572       0.000000       0.000000       0.000000   \n",
      "25%        -0.022572       0.000000       0.000000       0.000000   \n",
      "50%         0.171781       3.899850       0.168500       3.557952   \n",
      "75%        40.136452     451.667500     518.752500     124.222500   \n",
      "max       100.980000    1305.900000    1200.894352    1046.900000   \n",
      "\n",
      "                 DBT             RH           Ws10           Wd10  \\\n",
      "count  105120.000000  105120.000000  105120.000000  105120.000000   \n",
      "mean       23.778520      74.261499       2.311256     122.588027   \n",
      "std         3.585584      10.171373       1.937093      58.672895   \n",
      "min        14.297000       0.084948       0.000000       0.082400   \n",
      "25%        20.954000      67.075000       0.697200      90.220000   \n",
      "50%        23.918000      74.500500       1.897500     113.360000   \n",
      "75%        26.341000      81.580000       3.461325     135.521750   \n",
      "max        33.992000     100.000000      13.207000     356.480000   \n",
      "\n",
      "               Patmo       Rainfall  \n",
      "count  105120.000000  105120.000000  \n",
      "mean     1017.330530       0.001471  \n",
      "std         4.639135       0.016350  \n",
      "min       995.400000       0.000000  \n",
      "25%      1014.000000       0.000000  \n",
      "50%      1017.400000       0.000000  \n",
      "75%      1021.000000       0.000000  \n",
      "max      1028.000000       1.320000  \n"
     ]
    }
   ],
   "source": [
    "print(merged_dpt_1_2.describe())\n",
    "print(merged_enerpos.describe())\n",
    "print(merged_esiroi.describe())\n"
   ]
  },
  {
   "cell_type": "markdown",
   "metadata": {},
   "source": [
    "#### Saving Cleaned Data"
   ]
  },
  {
   "cell_type": "code",
   "execution_count": null,
   "metadata": {},
   "outputs": [],
   "source": [
    "merged_dpt_1_2.to_csv(\"cleaned_data/cleaned_merged_dpt_1_2.csv\", index=False)\n",
    "merged_enerpos.to_csv(\"cleaned_data/cleaned_merged_enerpos.csv\", index=False)\n",
    "merged_esiroi.to_csv(\"cleaned_data/cleaned_merged_esiroi.csv\", index=False)"
   ]
  }
 ],
 "metadata": {
  "kernelspec": {
   "display_name": "env",
   "language": "python",
   "name": "python3"
  },
  "language_info": {
   "codemirror_mode": {
    "name": "ipython",
    "version": 3
   },
   "file_extension": ".py",
   "mimetype": "text/x-python",
   "name": "python",
   "nbconvert_exporter": "python",
   "pygments_lexer": "ipython3",
   "version": "3.11.2"
  }
 },
 "nbformat": 4,
 "nbformat_minor": 2
}
